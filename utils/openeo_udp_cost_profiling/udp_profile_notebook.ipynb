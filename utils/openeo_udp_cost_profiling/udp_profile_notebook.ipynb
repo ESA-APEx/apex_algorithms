{
 "cells": [
  {
   "cell_type": "markdown",
   "id": "9e916b0b-804c-4dcb-9fd7-5506f1aeb72f",
   "metadata": {},
   "source": [
    "## Cost Profiling openEO processes (UDP)\n",
    "\n",
    "In this notebook we detail how one can profile the credit cost of a openEO process. Providing such information can by highly informative when sharing the process with other users, or when trying to optimize its credit usage. \n",
    "\n",
    "In this example we will profile the `eurac_pv_farm_detection` udp as a function of the spatial and temporal input size.\n",
    "\n",
    "**Note** The profiled credit cost, is only applicable for the openEO job configuration  [openEO job configuration](https://documentation.dataspace.copernicus.eu/APIs/openEO/job_config.html) used.  Fine-tuning memory settings, can make algorithm run more cost efficient. Optimizing the algorithm performance is offered as a service by [APEx](https://apex.esa.int/algorithm-services)\n"
   ]
  },
  {
   "cell_type": "code",
   "execution_count": 22,
   "id": "540c82888ebb6bff",
   "metadata": {},
   "outputs": [],
   "source": [
    "import pandas as pd\n",
    "import openeo\n",
    "\n",
    "from openeo.extra.job_management import (\n",
    "        CsvJobDatabase,\n",
    "        ProcessBasedJobCreator,\n",
    "        MultiBackendJobManager\n",
    "    )\n"
   ]
  },
  {
   "cell_type": "markdown",
   "id": "e2ccdf51-2543-43da-90f0-d7d3f3434f49",
   "metadata": {},
   "source": [
    "For this example we will use an existing APEx algorithm from the catalog, but it is also relatively easy to work with any other openEO process. More examples can be found in [openEO community examples](https://github.com/Open-EO/openeo-community-examples/tree/main/python/ManagingMultipleLargeScaleJobs)"
   ]
  },
  {
   "cell_type": "code",
   "execution_count": 2,
   "id": "f889e485a9bfd2ae",
   "metadata": {
    "ExecuteTime": {
     "end_time": "2024-09-19T09:56:43.812395Z",
     "start_time": "2024-09-19T09:56:43.727437Z"
    }
   },
   "outputs": [],
   "source": [
    "process_graph_url = \"https://raw.githubusercontent.com/ESA-APEx/apex_algorithms/refs/heads/hv_notebook_fix/algorithm_catalog/vito/eurac_pv_farm_detection/openeo_udp/eurac_pv_farm_detection.json\"\n",
    "process_id = \"eurac_pv_farm_detection\""
   ]
  },
  {
   "cell_type": "markdown",
   "id": "ea9fdbf8",
   "metadata": {},
   "source": [
    "## Prepare jobs database\n",
    "\n",
    "In order to profile the openEO process, we will make use of openEO's `MultiBackendJobManager`. This Job manager requires oen to set up a dataframe which contains all input parameters for the jobs we wish to run.\n",
    "\n",
    "Hence we will create a dataframe containing all combinations of the input variables over which we want to profile the openEO process. \n",
    "\n",
    "**Note:** Since the used openeo process `eurac_pv_farm_detection` accepts as inpuit parameters a `bbox` and a `temporal_extent`, it is important that the collumns in the dataframe are named accordingly"
   ]
  },
  {
   "cell_type": "code",
   "execution_count": 3,
   "id": "e5688d64",
   "metadata": {},
   "outputs": [
    {
     "name": "stdout",
     "output_type": "stream",
     "text": [
      "                                                bbox           temporal_extent\n",
      "0  {'west': 5.318868004541495, 'south': 50.625959...  [2024-01-01, 2024-04-01]\n",
      "1  {'west': 5.318868004541495, 'south': 50.625959...  [2024-01-01, 2024-07-01]\n",
      "2  {'west': 5.318868004541495, 'south': 50.625959...  [2024-01-01, 2025-01-01]\n",
      "3  {'west': 5.318868004541495, 'south': 50.622890...  [2024-01-01, 2024-04-01]\n",
      "4  {'west': 5.318868004541495, 'south': 50.622890...  [2024-01-01, 2024-07-01]\n",
      "5  {'west': 5.318868004541495, 'south': 50.622890...  [2024-01-01, 2025-01-01]\n",
      "6  {'west': 5.318868004541495, 'south': 50.616238...  [2024-01-01, 2024-04-01]\n",
      "7  {'west': 5.318868004541495, 'south': 50.616238...  [2024-01-01, 2024-07-01]\n",
      "8  {'west': 5.318868004541495, 'south': 50.616238...  [2024-01-01, 2025-01-01]\n"
     ]
    }
   ],
   "source": [
    "from utils import prepare_jobs_df\n",
    "\n",
    "BASE_SPATIAL = {\"west\": 664000.0, \"south\": 5611120.0, \"crs\": \"EPSG:32631\", \"srs\": \"EPSG:32631\"}\n",
    "BASE_TEMPORAL = '2024-01-01'\n",
    "\n",
    "spatial_extents = [10000, 20000, 40000] #km extend\n",
    "temporal_extents = [3, 6, 12] #months\n",
    "\n",
    "jobs_df = prepare_jobs_df(spatial_extents, temporal_extents, BASE_SPATIAL, BASE_TEMPORAL)\n",
    "print(jobs_df)"
   ]
  },
  {
   "cell_type": "markdown",
   "id": "2ff72338",
   "metadata": {},
   "source": [
    "## Creating the Job\n",
    "Once we have created our dataframe containing the input parameters, we do need to tell the job manager what to do with those parameters. Therefore, we create an openEO job. For openEO processes we can effectively use the `ProcessBasedJobCreator` to create a valid openEO job. "
   ]
  },
  {
   "cell_type": "code",
   "execution_count": 15,
   "id": "927eaf44",
   "metadata": {},
   "outputs": [],
   "source": [
    "start_job = ProcessBasedJobCreator(process_id=process_id, namespace=process_graph_url)"
   ]
  },
  {
   "cell_type": "markdown",
   "id": "c2b092d5",
   "metadata": {},
   "source": [
    "## Running Jobs Using MultiBackendJobManager\n",
    "\n",
    "With our spatial extents set up, we can now run the jobs using the `MultiBackendJobManager`. This involves defining an output file where the job tracker will store the job statuses and metadata.\n",
    "\n",
    "### Steps to Run the Jobs:\n",
    "\n",
    "1. Define the Output File:\n",
    "   The output file will store the job tracker data, including job statuses and metadata.\n",
    "\n",
    "2. Initialize the MultiBackendJobManager:\n",
    "   We create an instance of the `MultiBackendJobManager` and add a backend of our choice. This backend will be responsible for executing the jobs.\n",
    "\n",
    "3. Run Multiple Jobs:\n",
    "   Use `manager.run_jobs` to create the desired jobs and send them to the backend.\n",
    "   The output file, defined in step 1, will act as a the live job tracker and contain all the information from the original jobs DataFrame, as well as updates on the actual job statuses.\n"
   ]
  },
  {
   "cell_type": "code",
   "execution_count": null,
   "id": "89c7ff8f-85dd-4b63-8c05-0bebd2084796",
   "metadata": {},
   "outputs": [
    {
     "name": "stdout",
     "output_type": "stream",
     "text": [
      "Authenticated using refresh token.\n"
     ]
    },
    {
     "data": {
      "text/plain": [
       "defaultdict(int,\n",
       "            {'job_db persist': 16,\n",
       "             'track_statuses': 7,\n",
       "             'job_db get_by_status': 1,\n",
       "             'start_job call': 9,\n",
       "             'job get status': 18,\n",
       "             'job start': 9,\n",
       "             'job launch': 9,\n",
       "             'run_jobs loop': 7,\n",
       "             'sleep': 7,\n",
       "             'job describe': 30,\n",
       "             'job finished': 9,\n",
       "             'job started running': 7})"
      ]
     },
     "execution_count": 16,
     "metadata": {},
     "output_type": "execute_result"
    }
   ],
   "source": [
    "\n",
    "# Initiate MultiBackendJobManager \n",
    "job_manager = MultiBackendJobManager()  \n",
    "connection = openeo.connect(url=\"openeo.dataspace.copernicus.eu\").authenticate_oidc()\n",
    "job_manager.add_backend(\"cdse\", connection=connection, parallel_jobs=2)\n",
    "\n",
    "job_tracker = 'jobs.csv'\n",
    "job_db = CsvJobDatabase(path=job_tracker)\n",
    "job_db.initialize_from_df(jobs_df)\n",
    "\n",
    "job_manager.run_jobs(start_job=start_job, job_db=job_db)"
   ]
  },
  {
   "cell_type": "markdown",
   "id": "dd9805ba",
   "metadata": {},
   "source": [
    "Once the jobs have finished, we reconnect to each job using the job-id and add the cost information into the dataframe. \n",
    "This step will become deprecated in the future as the job cost will be added to the job manager as a standard."
   ]
  },
  {
   "cell_type": "code",
   "execution_count": null,
   "id": "5afe3bf6",
   "metadata": {},
   "outputs": [
    {
     "name": "stdout",
     "output_type": "stream",
     "text": [
      "Authenticated using refresh token.\n"
     ]
    },
    {
     "data": {
      "text/html": [
       "<div>\n",
       "<style scoped>\n",
       "    .dataframe tbody tr th:only-of-type {\n",
       "        vertical-align: middle;\n",
       "    }\n",
       "\n",
       "    .dataframe tbody tr th {\n",
       "        vertical-align: top;\n",
       "    }\n",
       "\n",
       "    .dataframe thead th {\n",
       "        text-align: right;\n",
       "    }\n",
       "</style>\n",
       "<table border=\"1\" class=\"dataframe\">\n",
       "  <thead>\n",
       "    <tr style=\"text-align: right;\">\n",
       "      <th></th>\n",
       "      <th>bbox</th>\n",
       "      <th>temporal_extent</th>\n",
       "      <th>status</th>\n",
       "      <th>id</th>\n",
       "      <th>start_time</th>\n",
       "      <th>running_start_time</th>\n",
       "      <th>cpu</th>\n",
       "      <th>memory</th>\n",
       "      <th>duration</th>\n",
       "      <th>backend_name</th>\n",
       "      <th>job_cost</th>\n",
       "    </tr>\n",
       "  </thead>\n",
       "  <tbody>\n",
       "    <tr>\n",
       "      <th>0</th>\n",
       "      <td>{'west': 5.318868004541495, 'south': 50.625959...</td>\n",
       "      <td>['2024-01-01', '2024-04-01']</td>\n",
       "      <td>finished</td>\n",
       "      <td>j-2502211427304f819db0f343c822dbe2</td>\n",
       "      <td>2025-02-21T14:27:32Z</td>\n",
       "      <td>NaN</td>\n",
       "      <td>770.7401148490001 cpu-seconds</td>\n",
       "      <td>7267329.687500002 mb-seconds</td>\n",
       "      <td>200 seconds</td>\n",
       "      <td>cdse</td>\n",
       "      <td>6.0</td>\n",
       "    </tr>\n",
       "    <tr>\n",
       "      <th>1</th>\n",
       "      <td>{'west': 5.318868004541495, 'south': 50.625959...</td>\n",
       "      <td>['2024-01-01', '2024-07-01']</td>\n",
       "      <td>finished</td>\n",
       "      <td>j-2502211428154f598a2fd60b00463466</td>\n",
       "      <td>2025-02-21T14:28:16Z</td>\n",
       "      <td>2025-02-21T14:32:52Z</td>\n",
       "      <td>1456.868555183 cpu-seconds</td>\n",
       "      <td>9084338.80859375 mb-seconds</td>\n",
       "      <td>260 seconds</td>\n",
       "      <td>cdse</td>\n",
       "      <td>7.0</td>\n",
       "    </tr>\n",
       "    <tr>\n",
       "      <th>2</th>\n",
       "      <td>{'west': 5.318868004541495, 'south': 50.625959...</td>\n",
       "      <td>['2024-01-01', '2025-01-01']</td>\n",
       "      <td>finished</td>\n",
       "      <td>j-2502211428324cea9407ceb1dfaa1a13</td>\n",
       "      <td>2025-02-21T14:28:33Z</td>\n",
       "      <td>NaN</td>\n",
       "      <td>2591.5910848340004 cpu-seconds</td>\n",
       "      <td>13787584.648437504 mb-seconds</td>\n",
       "      <td>339 seconds</td>\n",
       "      <td>cdse</td>\n",
       "      <td>9.0</td>\n",
       "    </tr>\n",
       "    <tr>\n",
       "      <th>3</th>\n",
       "      <td>{'west': 5.318868004541495, 'south': 50.622890...</td>\n",
       "      <td>['2024-01-01', '2024-04-01']</td>\n",
       "      <td>finished</td>\n",
       "      <td>j-2502211429204534ace9e924c2c44cef</td>\n",
       "      <td>2025-02-21T14:29:20Z</td>\n",
       "      <td>2025-02-21T14:32:53Z</td>\n",
       "      <td>715.331727992 cpu-seconds</td>\n",
       "      <td>5497511.210937499 mb-seconds</td>\n",
       "      <td>190 seconds</td>\n",
       "      <td>cdse</td>\n",
       "      <td>5.0</td>\n",
       "    </tr>\n",
       "    <tr>\n",
       "      <th>4</th>\n",
       "      <td>{'west': 5.318868004541495, 'south': 50.622890...</td>\n",
       "      <td>['2024-01-01', '2024-07-01']</td>\n",
       "      <td>finished</td>\n",
       "      <td>j-2502211429374dd4b77c4cee08d4b95c</td>\n",
       "      <td>2025-02-21T14:29:38Z</td>\n",
       "      <td>2025-02-21T14:32:55Z</td>\n",
       "      <td>1479.0923398060002 cpu-seconds</td>\n",
       "      <td>9461219.009375 mb-seconds</td>\n",
       "      <td>259 seconds</td>\n",
       "      <td>cdse</td>\n",
       "      <td>7.0</td>\n",
       "    </tr>\n",
       "    <tr>\n",
       "      <th>5</th>\n",
       "      <td>{'west': 5.318868004541495, 'south': 50.622890...</td>\n",
       "      <td>['2024-01-01', '2025-01-01']</td>\n",
       "      <td>finished</td>\n",
       "      <td>j-2502211430064a96a3bac4f5b9ff8e7a</td>\n",
       "      <td>2025-02-21T14:30:06Z</td>\n",
       "      <td>2025-02-21T14:32:56Z</td>\n",
       "      <td>2531.599976633 cpu-seconds</td>\n",
       "      <td>16368920.707087057 mb-seconds</td>\n",
       "      <td>417 seconds</td>\n",
       "      <td>cdse</td>\n",
       "      <td>10.0</td>\n",
       "    </tr>\n",
       "    <tr>\n",
       "      <th>6</th>\n",
       "      <td>{'west': 5.318868004541495, 'south': 50.616238...</td>\n",
       "      <td>['2024-01-01', '2024-04-01']</td>\n",
       "      <td>finished</td>\n",
       "      <td>j-25022114302747a5a8fc39fd13403b61</td>\n",
       "      <td>2025-02-21T14:30:27Z</td>\n",
       "      <td>2025-02-21T14:33:09Z</td>\n",
       "      <td>798.0674027809999 cpu-seconds</td>\n",
       "      <td>6458700.921223959 mb-seconds</td>\n",
       "      <td>215 seconds</td>\n",
       "      <td>cdse</td>\n",
       "      <td>6.0</td>\n",
       "    </tr>\n",
       "    <tr>\n",
       "      <th>7</th>\n",
       "      <td>{'west': 5.318868004541495, 'south': 50.616238...</td>\n",
       "      <td>['2024-01-01', '2024-07-01']</td>\n",
       "      <td>finished</td>\n",
       "      <td>j-2502211431054f91b6b74d04c2cd23f3</td>\n",
       "      <td>2025-02-21T14:31:05Z</td>\n",
       "      <td>2025-02-21T14:33:09Z</td>\n",
       "      <td>1386.7766356719999 cpu-seconds</td>\n",
       "      <td>9796064.688281251 mb-seconds</td>\n",
       "      <td>279 seconds</td>\n",
       "      <td>cdse</td>\n",
       "      <td>7.0</td>\n",
       "    </tr>\n",
       "    <tr>\n",
       "      <th>8</th>\n",
       "      <td>{'west': 5.318868004541495, 'south': 50.616238...</td>\n",
       "      <td>['2024-01-01', '2025-01-01']</td>\n",
       "      <td>finished</td>\n",
       "      <td>j-250221143123401cb3e0308104cda500</td>\n",
       "      <td>2025-02-21T14:31:24Z</td>\n",
       "      <td>2025-02-21T14:33:09Z</td>\n",
       "      <td>2409.3242652500003 cpu-seconds</td>\n",
       "      <td>14868502.516815476 mb-seconds</td>\n",
       "      <td>388 seconds</td>\n",
       "      <td>cdse</td>\n",
       "      <td>10.0</td>\n",
       "    </tr>\n",
       "  </tbody>\n",
       "</table>\n",
       "</div>"
      ],
      "text/plain": [
       "                                                bbox  \\\n",
       "0  {'west': 5.318868004541495, 'south': 50.625959...   \n",
       "1  {'west': 5.318868004541495, 'south': 50.625959...   \n",
       "2  {'west': 5.318868004541495, 'south': 50.625959...   \n",
       "3  {'west': 5.318868004541495, 'south': 50.622890...   \n",
       "4  {'west': 5.318868004541495, 'south': 50.622890...   \n",
       "5  {'west': 5.318868004541495, 'south': 50.622890...   \n",
       "6  {'west': 5.318868004541495, 'south': 50.616238...   \n",
       "7  {'west': 5.318868004541495, 'south': 50.616238...   \n",
       "8  {'west': 5.318868004541495, 'south': 50.616238...   \n",
       "\n",
       "                temporal_extent    status                                  id  \\\n",
       "0  ['2024-01-01', '2024-04-01']  finished  j-2502211427304f819db0f343c822dbe2   \n",
       "1  ['2024-01-01', '2024-07-01']  finished  j-2502211428154f598a2fd60b00463466   \n",
       "2  ['2024-01-01', '2025-01-01']  finished  j-2502211428324cea9407ceb1dfaa1a13   \n",
       "3  ['2024-01-01', '2024-04-01']  finished  j-2502211429204534ace9e924c2c44cef   \n",
       "4  ['2024-01-01', '2024-07-01']  finished  j-2502211429374dd4b77c4cee08d4b95c   \n",
       "5  ['2024-01-01', '2025-01-01']  finished  j-2502211430064a96a3bac4f5b9ff8e7a   \n",
       "6  ['2024-01-01', '2024-04-01']  finished  j-25022114302747a5a8fc39fd13403b61   \n",
       "7  ['2024-01-01', '2024-07-01']  finished  j-2502211431054f91b6b74d04c2cd23f3   \n",
       "8  ['2024-01-01', '2025-01-01']  finished  j-250221143123401cb3e0308104cda500   \n",
       "\n",
       "             start_time    running_start_time                             cpu  \\\n",
       "0  2025-02-21T14:27:32Z                   NaN   770.7401148490001 cpu-seconds   \n",
       "1  2025-02-21T14:28:16Z  2025-02-21T14:32:52Z      1456.868555183 cpu-seconds   \n",
       "2  2025-02-21T14:28:33Z                   NaN  2591.5910848340004 cpu-seconds   \n",
       "3  2025-02-21T14:29:20Z  2025-02-21T14:32:53Z       715.331727992 cpu-seconds   \n",
       "4  2025-02-21T14:29:38Z  2025-02-21T14:32:55Z  1479.0923398060002 cpu-seconds   \n",
       "5  2025-02-21T14:30:06Z  2025-02-21T14:32:56Z      2531.599976633 cpu-seconds   \n",
       "6  2025-02-21T14:30:27Z  2025-02-21T14:33:09Z   798.0674027809999 cpu-seconds   \n",
       "7  2025-02-21T14:31:05Z  2025-02-21T14:33:09Z  1386.7766356719999 cpu-seconds   \n",
       "8  2025-02-21T14:31:24Z  2025-02-21T14:33:09Z  2409.3242652500003 cpu-seconds   \n",
       "\n",
       "                          memory     duration backend_name  job_cost  \n",
       "0   7267329.687500002 mb-seconds  200 seconds         cdse       6.0  \n",
       "1    9084338.80859375 mb-seconds  260 seconds         cdse       7.0  \n",
       "2  13787584.648437504 mb-seconds  339 seconds         cdse       9.0  \n",
       "3   5497511.210937499 mb-seconds  190 seconds         cdse       5.0  \n",
       "4      9461219.009375 mb-seconds  259 seconds         cdse       7.0  \n",
       "5  16368920.707087057 mb-seconds  417 seconds         cdse      10.0  \n",
       "6   6458700.921223959 mb-seconds  215 seconds         cdse       6.0  \n",
       "7   9796064.688281251 mb-seconds  279 seconds         cdse       7.0  \n",
       "8  14868502.516815476 mb-seconds  388 seconds         cdse      10.0  "
      ]
     },
     "execution_count": 5,
     "metadata": {},
     "output_type": "execute_result"
    }
   ],
   "source": [
    "from utils import update_job_costs_dataframe\n",
    "\n",
    "df = pd.read_csv(job_tracker)\n",
    "if not 'job_cost' in df:\n",
    "    df = update_job_costs_dataframe(df, connection)\n",
    "\n",
    "df"
   ]
  },
  {
   "cell_type": "markdown",
   "id": "ba9fa7b1-8ac4-4594-84d6-926ba93292da",
   "metadata": {},
   "source": [
    "# Metrics plots\n",
    "\n",
    "Results are plotted to allow visual inspection.\n",
    "\n",
    "The plot shows cost as a function of the spatial and temporal extent. \n",
    "\n",
    "These visualisation can help estimate the openEO cost when one wishes to run the undelrying process on a larger scale.\n",
    "\n",
    "**Note:** The output job cost, are directly related to the used memory settings, and can always be improved. Support on optimizing openEO processes can be obtained through [APEx](https://apex.esa.int/algorithm-services)\n"
   ]
  },
  {
   "cell_type": "code",
   "execution_count": 23,
   "id": "e3bfca66",
   "metadata": {},
   "outputs": [
    {
     "data": {
      "image/png": "[encoded data removed]",
      "text/plain": [
       "<Figure size 800x600 with 2 Axes>"
      ]
     },
     "metadata": {},
     "output_type": "display_data"
    }
   ],
   "source": [
    "# Plotting\n",
    "import seaborn as sns\n",
    "import matplotlib.pyplot as plt\n",
    "import pandas as pd\n",
    "import ast  # For safely converting string to dictionary\n",
    "\n",
    "def plot_job_costs(df):\n",
    "    # Ensure bbox is a dictionary\n",
    "    df['bbox'] = df['bbox'].apply(lambda x: ast.literal_eval(x) if isinstance(x, str) else x)\n",
    "    df['temporal_extent'] = df['temporal_extent'].apply(lambda x: ast.literal_eval(x) if isinstance(x, str) else x)\n",
    "\n",
    "    # Extracting spatial and temporal extent\n",
    "    df['lat_span'] = df['bbox'].apply(lambda b: round((b['north'] - b['south']) * 108))  # Convert latitude span to km\n",
    "    df['temporal_months'] = df['temporal_extent'].apply(lambda t: round((pd.to_datetime(t[1]) - pd.to_datetime(t[0])).days / 30))\n",
    "\n",
    "    # Pivot the data for heatmap plotting\n",
    "    pivot_table = df.pivot_table(index='lat_span', columns='temporal_months', values='job_cost', aggfunc='mean')\n",
    "\n",
    "    # Create the heatmap\n",
    "    plt.figure(figsize=(8, 6))\n",
    "    ax = sns.heatmap(pivot_table, annot=True, fmt='.1f', cmap='coolwarm', linewidths=0.5, cbar_kws={'label': 'Job Cost'})\n",
    "\n",
    "    # Labels and title\n",
    "    plt.xlabel('Temporal Extent (Months)')\n",
    "    plt.ylabel('Spatial Extent (Square km)')\n",
    "    plt.title('Job Cost vs. Temporal and Spatial Extent for the used memory settings')\n",
    "    plt.show()\n",
    "\n",
    "# Example usage (assuming df is your DataFrame)\n",
    "plot_job_costs(df)"
   ]
  }
 ],
 "metadata": {
  "kernelspec": {
   "display_name": "pv_openeo",
   "language": "python",
   "name": "python3"
  },
  "language_info": {
   "codemirror_mode": {
    "name": "ipython",
    "version": 3
   },
   "file_extension": ".py",
   "mimetype": "text/x-python",
   "name": "python",
   "nbconvert_exporter": "python",
   "pygments_lexer": "ipython3",
   "version": "3.8.19"
  }
 },
 "nbformat": 4,
 "nbformat_minor": 5
}
